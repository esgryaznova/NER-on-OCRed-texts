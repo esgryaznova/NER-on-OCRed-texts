{
 "cells": [
  {
   "cell_type": "code",
   "execution_count": null,
   "id": "747adbe2",
   "metadata": {},
   "outputs": [],
   "source": [
    "import pathlib\n",
    "from pathlib import Path\n",
    "import json\n",
    "import pandas as pd"
   ]
  },
  {
   "cell_type": "code",
   "execution_count": null,
   "id": "f8c5ba3b",
   "metadata": {},
   "outputs": [],
   "source": [
    "path = pathlib.Path(\"/labeling.json\")"
   ]
  },
  {
   "cell_type": "code",
   "execution_count": null,
   "id": "d3b1d2e4",
   "metadata": {},
   "outputs": [],
   "source": [
    "corrected_labeling = json.load(open(path, 'rb'))"
   ]
  },
  {
   "cell_type": "code",
   "execution_count": null,
   "id": "a2f558ad",
   "metadata": {},
   "outputs": [],
   "source": [
    "filename = []\n",
    "text = []\n",
    "labels = []\n",
    "for image in corrected_labeling:     \n",
    "    file_name = image[\"meta\"][\"file\"]\n",
    "    for element in image[\"annotations\"]:\n",
    "        for y in element[\"result\"]:\n",
    "#             print(file_name, y[\"value\"][\"text\"], y[\"value\"][\"labels\"])\n",
    "            filename.append(file_name)\n",
    "            text.append(y[\"value\"][\"text\"])\n",
    "            labels.append(y[\"value\"][\"labels\"])"
   ]
  },
  {
   "cell_type": "code",
   "execution_count": null,
   "id": "fd0eecbb",
   "metadata": {},
   "outputs": [],
   "source": [
    "ner_df = pd.DataFrame()"
   ]
  },
  {
   "cell_type": "code",
   "execution_count": null,
   "id": "d7ffd916",
   "metadata": {},
   "outputs": [],
   "source": [
    "ner_df[\"Filename\"] = filename\n",
    "ner_df[\"Text\"] = text\n",
    "ner_df[\"Label\"] = labels"
   ]
  },
  {
   "cell_type": "code",
   "execution_count": null,
   "id": "9b230e7d",
   "metadata": {},
   "outputs": [],
   "source": [
    "ner_labeling = pd.concat([ner_labeling, ner_df], ignore_index = True)"
   ]
  },
  {
   "cell_type": "code",
   "execution_count": null,
   "id": "c80478dc",
   "metadata": {},
   "outputs": [],
   "source": [
    "ner_labeling"
   ]
  },
  {
   "cell_type": "code",
   "execution_count": null,
   "id": "2c874c7f",
   "metadata": {},
   "outputs": [],
   "source": [
    "import openpyxl\n",
    "ner_labeling.to_excel('ner_labeling.xlsx')"
   ]
  },
  {
   "cell_type": "markdown",
   "id": "9920f2b0",
   "metadata": {},
   "source": [
    "## DeepPavlov"
   ]
  },
  {
   "cell_type": "code",
   "execution_count": null,
   "id": "39eeea98",
   "metadata": {},
   "outputs": [],
   "source": [
    "# def Convert(string):\n",
    "#     li = list(string.split(\"\\n\"))\n",
    "#     return li"
   ]
  },
  {
   "cell_type": "code",
   "execution_count": null,
   "id": "39ed11c6",
   "metadata": {},
   "outputs": [],
   "source": [
    "import deeppavlov"
   ]
  },
  {
   "cell_type": "code",
   "execution_count": null,
   "id": "4144d632",
   "metadata": {},
   "outputs": [],
   "source": [
    "from deeppavlov import build_model\n",
    "#ner_model = build_model('ner_collection3_bert', download=True, install=True)"
   ]
  },
  {
   "cell_type": "code",
   "execution_count": null,
   "id": "84c15d73",
   "metadata": {
    "scrolled": true
   },
   "outputs": [],
   "source": [
    "texts = []\n",
    "dp_dict = {}\n",
    "filenames = []\n",
    "for key, value in json_results.items():\n",
    "    cleaned_list = [elem for elem in value if elem.strip()]\n",
    "    value_clean = [x for x in cleaned_list if x != '']\n",
    "    if len(value_clean) == 0:\n",
    "        pass\n",
    "    else:\n",
    "        result = ner_model(value_clean)\n",
    "        dp_dict[key] = (result[0], result[1])  \n",
    "#     print(len(dp_dict))"
   ]
  },
  {
   "cell_type": "code",
   "execution_count": null,
   "id": "fe92d493",
   "metadata": {},
   "outputs": [],
   "source": [
    "dp_dict"
   ]
  },
  {
   "cell_type": "markdown",
   "id": "a4bab6dc",
   "metadata": {},
   "source": [
    "## SpaCy"
   ]
  },
  {
   "cell_type": "code",
   "execution_count": null,
   "id": "fec4dbd6",
   "metadata": {},
   "outputs": [],
   "source": [
    "import spacy"
   ]
  },
  {
   "cell_type": "code",
   "execution_count": null,
   "id": "27c2c7ce",
   "metadata": {},
   "outputs": [],
   "source": [
    "ru_model_large = spacy.load(\"ru_core_news_lg\")"
   ]
  },
  {
   "cell_type": "code",
   "execution_count": null,
   "id": "0a7d2df9",
   "metadata": {},
   "outputs": [],
   "source": [
    "import json\n",
    "json_ner = json.load(open('raw_recognition/results.json', 'rb'))"
   ]
  },
  {
   "cell_type": "code",
   "execution_count": null,
   "id": "23614496",
   "metadata": {},
   "outputs": [],
   "source": [
    "json_pdf = json.load(open('raw_recognition/results_pdf.json', 'rb'))"
   ]
  },
  {
   "cell_type": "code",
   "execution_count": null,
   "id": "e511839d",
   "metadata": {},
   "outputs": [],
   "source": [
    "def merge_two_dicts(x, y):\n",
    "    \"\"\"Given two dictionaries, merge them into a new dict as a shallow copy.\"\"\"\n",
    "    z = x.copy()\n",
    "    z.update(y)\n",
    "    return z"
   ]
  },
  {
   "cell_type": "code",
   "execution_count": null,
   "id": "69223c2a",
   "metadata": {},
   "outputs": [],
   "source": [
    "json_results = merge_two_dicts(json_ner, json_pdf)"
   ]
  },
  {
   "cell_type": "code",
   "execution_count": null,
   "id": "c2d320bb",
   "metadata": {},
   "outputs": [],
   "source": [
    "len(json_results)"
   ]
  },
  {
   "cell_type": "code",
   "execution_count": null,
   "id": "c663cf59",
   "metadata": {},
   "outputs": [],
   "source": [
    "for key, value in json_pdf.items():\n",
    "    texts.append(\" \".join(value))\n",
    "    print(texts[0])"
   ]
  },
  {
   "cell_type": "code",
   "execution_count": null,
   "id": "6baabe71",
   "metadata": {},
   "outputs": [],
   "source": [
    "def get_tag(text):\n",
    "    output = []\n",
    "    labels = []\n",
    "    result = ru_model_large(text)\n",
    "    for ent in result.ents:\n",
    "        output.append(ent.text)\n",
    "        labels.append(ent.label_)\n",
    "    return output, labels\n"
   ]
  },
  {
   "cell_type": "code",
   "execution_count": null,
   "id": "e3fa23fc",
   "metadata": {
    "scrolled": true
   },
   "outputs": [],
   "source": [
    "texts = []\n",
    "spacy_dict_pdf = {}\n",
    "output = []\n",
    "labels = []\n",
    "for key, value in json_pdf.items():\n",
    "    texts.append(\" \".join(value))\n",
    "    file_name = key\n",
    "    for text in texts:\n",
    "        output, labels = get_tag(text)\n",
    "        spacy_dict_pdf[key] = (output, labels)\n",
    "    print(len(spacy_dict_pdf))"
   ]
  },
  {
   "cell_type": "code",
   "execution_count": null,
   "id": "7745fe4f",
   "metadata": {},
   "outputs": [],
   "source": [
    "with open('spacy_ner_pdf.json', 'w') as fp:\n",
    "    json.dump(spacy_dict_pdf, fp)"
   ]
  },
  {
   "cell_type": "markdown",
   "id": "7a87523a",
   "metadata": {},
   "source": [
    " ## Natasha"
   ]
  },
  {
   "cell_type": "code",
   "execution_count": null,
   "id": "83169b18",
   "metadata": {},
   "outputs": [],
   "source": [
    "from navec import Navec\n",
    "from slovnet import NER"
   ]
  },
  {
   "cell_type": "code",
   "execution_count": null,
   "id": "f95ae8ca",
   "metadata": {},
   "outputs": [],
   "source": [
    "text = 'Европейский союз добавил в санкционный список девять политических деятелей из самопровозглашенных республик Донбасса — Донецкой народной республики (ДНР) и Луганской народной республики (ЛНР) — в связи с прошедшими там выборами. Об этом говорится в документе, опубликованном в официальном журнале Евросоюза. В новом списке фигурирует Леонид Пасечник, который по итогам выборов стал главой ЛНР. Помимо него там присутствуют Владимир Бидевка и Денис Мирошниченко, председатели законодательных органов ДНР и ЛНР, а также Ольга Позднякова и Елена Кравченко, председатели ЦИК обеих республик. Выборы прошли в непризнанных республиках Донбасса 11 ноября. На них удержали лидерство действующие руководители и партии — Денис Пушилин и «Донецкая республика» в ДНР и Леонид Пасечник с движением «Мир Луганщине» в ЛНР. Президент Франции Эмманюэль Макрон и канцлер ФРГ Ангела Меркель после встречи с украинским лидером Петром Порошенко осудили проведение выборов, заявив, что они нелегитимны и «подрывают территориальную целостность и суверенитет Украины». Позже к осуждению присоединились США с обещаниями новых санкций для России.'\n",
    "\n",
    "path = Navec.load('navec_news_v1_1B_250K_300d_100q.tar') # модель\n",
    "ner = NER.load('slovnet_ner_news_v1.tar') # эмбеддинги\n",
    "ner.navec(path)"
   ]
  },
  {
   "cell_type": "code",
   "execution_count": null,
   "id": "93bfc3fe",
   "metadata": {},
   "outputs": [],
   "source": [
    "from natasha import (\n",
    "    Segmenter,\n",
    "    MorphVocab,\n",
    "    \n",
    "    NewsEmbedding,\n",
    "    NewsMorphTagger,\n",
    "    NewsSyntaxParser,\n",
    "    NewsNERTagger,\n",
    "    \n",
    "    PER,\n",
    "    NamesExtractor,\n",
    "\n",
    "    Doc\n",
    ")"
   ]
  },
  {
   "cell_type": "code",
   "execution_count": null,
   "id": "b794dec7",
   "metadata": {},
   "outputs": [],
   "source": [
    "segmenter = Segmenter()\n",
    "morph_vocab = MorphVocab()\n",
    "\n",
    "emb = NewsEmbedding()\n",
    "morph_tagger = NewsMorphTagger(emb)\n",
    "syntax_parser = NewsSyntaxParser(emb)\n",
    "ner_tagger = NewsNERTagger(emb)"
   ]
  },
  {
   "cell_type": "code",
   "execution_count": null,
   "id": "6257f0e9",
   "metadata": {},
   "outputs": [],
   "source": [
    "def get_pred(text):\n",
    "    output = []\n",
    "    labels = []\n",
    "    doc = Doc(text)\n",
    "    doc.segment(segmenter)\n",
    "    doc.tag_ner(ner_tagger)\n",
    "    for span in doc.spans:\n",
    "        output.append(span.text)\n",
    "        labels.append(span.type)\n",
    "    return output, labels"
   ]
  },
  {
   "cell_type": "code",
   "execution_count": null,
   "id": "845d989b",
   "metadata": {},
   "outputs": [],
   "source": [
    "texts = []\n",
    "natasha_dict = {}\n",
    "\n",
    "for key, value in json_results.items():\n",
    "    texts.append(\" \".join(value))\n",
    "    file_name = key\n",
    "    for text in texts:\n",
    "        output, labels = get_pred(text)\n",
    "\n",
    "        natasha_dict[key] = (output, labels)\n",
    "    print(len(natasha_dict))"
   ]
  },
  {
   "cell_type": "code",
   "execution_count": null,
   "id": "26b0958d",
   "metadata": {},
   "outputs": [],
   "source": [
    "natasha_dict"
   ]
  },
  {
   "cell_type": "code",
   "execution_count": null,
   "id": "d72e1be1",
   "metadata": {},
   "outputs": [],
   "source": [
    "with open('deep_pavlov.json', 'w') as fp:\n",
    "    json.dump(dp_dict, fp)"
   ]
  },
  {
   "cell_type": "code",
   "execution_count": null,
   "id": "0e2fb518",
   "metadata": {},
   "outputs": [],
   "source": []
  }
 ],
 "metadata": {
  "kernelspec": {
   "display_name": "Python 3 (ipykernel)",
   "language": "python",
   "name": "python3"
  },
  "language_info": {
   "codemirror_mode": {
    "name": "ipython",
    "version": 3
   },
   "file_extension": ".py",
   "mimetype": "text/x-python",
   "name": "python",
   "nbconvert_exporter": "python",
   "pygments_lexer": "ipython3",
   "version": "3.10.9"
  }
 },
 "nbformat": 4,
 "nbformat_minor": 5
}
